{
 "cells": [
  {
   "cell_type": "code",
   "execution_count": 1,
   "metadata": {},
   "outputs": [],
   "source": [
    "import subprocess"
   ]
  },
  {
   "cell_type": "code",
   "execution_count": null,
   "metadata": {},
   "outputs": [],
   "source": [
    "STYLE_IMAGE='wave_off.jpg'\n",
    "CONTENT_IMAGE='examples/inputs/surabaya.jpg'\n",
    "STYLE_WEIGHT='5e2'\n",
    "STYLE_SCALE='1.0'\n",
    "STYLE_WEIGHT='2500'"
   ]
  },
  {
   "cell_type": "code",
   "execution_count": null,
   "metadata": {},
   "outputs": [],
   "source": [
    "subprocess.Popen([f'python neural_style.py \\\n",
    "  -content_image {CONTENT_IMAGE} \\\n",
    "  -style_image {STYLE_IMAGE} \\\n",
    "  -style_scale {STYLE_SCALE} \\\n",
    "  -print_iter 10 \\\n",
    "  -style_weight {STYLE_WEIGHT} \\\n",
    "  -image_size 256 \\\n",
    "  -output_image out1.png \\\n",
    "  -tv_weight 0 \\\n",
    "  -gpu $GPU \\\n",
    "  -backend cudnn -cudnn_autotune'], shell=True)"
   ]
  }
 ],
 "metadata": {
  "kernelspec": {
   "display_name": "Python 3",
   "language": "python",
   "name": "python3"
  },
  "language_info": {
   "codemirror_mode": {
    "name": "ipython",
    "version": 3
   },
   "file_extension": ".py",
   "mimetype": "text/x-python",
   "name": "python",
   "nbconvert_exporter": "python",
   "pygments_lexer": "ipython3",
   "version": "3.6.8"
  }
 },
 "nbformat": 4,
 "nbformat_minor": 2
}
